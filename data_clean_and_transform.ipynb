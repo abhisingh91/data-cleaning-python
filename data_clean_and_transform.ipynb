{
 "cells": [
  {
   "cell_type": "code",
   "execution_count": 1,
   "metadata": {},
   "outputs": [],
   "source": [
    "import pandas as pd"
   ]
  },
  {
   "cell_type": "code",
   "execution_count": 2,
   "metadata": {},
   "outputs": [],
   "source": [
    "df = pd.read_csv('data/airbnb_listings.csv')    # read the csv data file to a Dataframe"
   ]
  },
  {
   "cell_type": "code",
   "execution_count": 3,
   "metadata": {},
   "outputs": [
    {
     "data": {
      "text/plain": [
       "(14861, 18)"
      ]
     },
     "execution_count": 3,
     "metadata": {},
     "output_type": "execute_result"
    }
   ],
   "source": [
    "df.shape    # data has 14861 rows and 18 columns"
   ]
  },
  {
   "cell_type": "code",
   "execution_count": 4,
   "metadata": {},
   "outputs": [
    {
     "data": {
      "text/plain": [
       "0"
      ]
     },
     "execution_count": 4,
     "metadata": {},
     "output_type": "execute_result"
    }
   ],
   "source": [
    "df.duplicated().sum()   # there are no duplicate rows in the dataset"
   ]
  },
  {
   "cell_type": "code",
   "execution_count": 5,
   "metadata": {},
   "outputs": [
    {
     "data": {
      "text/html": [
       "<div>\n",
       "<style scoped>\n",
       "    .dataframe tbody tr th:only-of-type {\n",
       "        vertical-align: middle;\n",
       "    }\n",
       "\n",
       "    .dataframe tbody tr th {\n",
       "        vertical-align: top;\n",
       "    }\n",
       "\n",
       "    .dataframe thead th {\n",
       "        text-align: right;\n",
       "    }\n",
       "</style>\n",
       "<table border=\"1\" class=\"dataframe\">\n",
       "  <thead>\n",
       "    <tr style=\"text-align: right;\">\n",
       "      <th></th>\n",
       "      <th>id</th>\n",
       "      <th>name</th>\n",
       "      <th>host_id</th>\n",
       "      <th>host_name</th>\n",
       "      <th>neighbourhood_group</th>\n",
       "      <th>neighbourhood</th>\n",
       "      <th>latitude</th>\n",
       "      <th>longitude</th>\n",
       "      <th>room_type</th>\n",
       "      <th>price</th>\n",
       "      <th>minimum_nights</th>\n",
       "      <th>number_of_reviews</th>\n",
       "      <th>last_review</th>\n",
       "      <th>reviews_per_month</th>\n",
       "      <th>calculated_host_listings_count</th>\n",
       "      <th>availability_365</th>\n",
       "      <th>number_of_reviews_ltm</th>\n",
       "      <th>license</th>\n",
       "    </tr>\n",
       "  </thead>\n",
       "  <tbody>\n",
       "    <tr>\n",
       "      <th>0</th>\n",
       "      <td>5456</td>\n",
       "      <td>Guesthouse in Austin · ★4.84 · 1 bedroom · 2 b...</td>\n",
       "      <td>8028</td>\n",
       "      <td>Sylvia</td>\n",
       "      <td>NaN</td>\n",
       "      <td>78702</td>\n",
       "      <td>30.26057</td>\n",
       "      <td>-97.73441</td>\n",
       "      <td>Entire home/apt</td>\n",
       "      <td>126</td>\n",
       "      <td>2</td>\n",
       "      <td>657</td>\n",
       "      <td>2023-08-27</td>\n",
       "      <td>3.72</td>\n",
       "      <td>1</td>\n",
       "      <td>306</td>\n",
       "      <td>42</td>\n",
       "      <td>NaN</td>\n",
       "    </tr>\n",
       "    <tr>\n",
       "      <th>1</th>\n",
       "      <td>5769</td>\n",
       "      <td>Home in Austin · ★4.90 · 1 bedroom · 1 bed · 1...</td>\n",
       "      <td>8186</td>\n",
       "      <td>Elizabeth</td>\n",
       "      <td>NaN</td>\n",
       "      <td>78729</td>\n",
       "      <td>30.45697</td>\n",
       "      <td>-97.78422</td>\n",
       "      <td>Private room</td>\n",
       "      <td>45</td>\n",
       "      <td>1</td>\n",
       "      <td>290</td>\n",
       "      <td>2023-08-04</td>\n",
       "      <td>1.77</td>\n",
       "      <td>1</td>\n",
       "      <td>0</td>\n",
       "      <td>21</td>\n",
       "      <td>NaN</td>\n",
       "    </tr>\n",
       "    <tr>\n",
       "      <th>2</th>\n",
       "      <td>6413</td>\n",
       "      <td>Guesthouse in Austin · ★4.97 · Studio · 1 bed ...</td>\n",
       "      <td>13879</td>\n",
       "      <td>Todd</td>\n",
       "      <td>NaN</td>\n",
       "      <td>78704</td>\n",
       "      <td>30.24885</td>\n",
       "      <td>-97.73587</td>\n",
       "      <td>Entire home/apt</td>\n",
       "      <td>57</td>\n",
       "      <td>30</td>\n",
       "      <td>122</td>\n",
       "      <td>2022-10-17</td>\n",
       "      <td>0.73</td>\n",
       "      <td>1</td>\n",
       "      <td>0</td>\n",
       "      <td>3</td>\n",
       "      <td>NaN</td>\n",
       "    </tr>\n",
       "    <tr>\n",
       "      <th>3</th>\n",
       "      <td>6448</td>\n",
       "      <td>Guesthouse in Austin · ★4.97 · 1 bedroom · 2 b...</td>\n",
       "      <td>14156</td>\n",
       "      <td>Amy</td>\n",
       "      <td>NaN</td>\n",
       "      <td>78704</td>\n",
       "      <td>30.26034</td>\n",
       "      <td>-97.76487</td>\n",
       "      <td>Entire home/apt</td>\n",
       "      <td>159</td>\n",
       "      <td>3</td>\n",
       "      <td>305</td>\n",
       "      <td>2023-09-04</td>\n",
       "      <td>2.09</td>\n",
       "      <td>1</td>\n",
       "      <td>156</td>\n",
       "      <td>17</td>\n",
       "      <td>NaN</td>\n",
       "    </tr>\n",
       "    <tr>\n",
       "      <th>4</th>\n",
       "      <td>8502</td>\n",
       "      <td>Guest suite in Austin · ★4.56 · 1 bedroom · 1 ...</td>\n",
       "      <td>25298</td>\n",
       "      <td>Karen</td>\n",
       "      <td>NaN</td>\n",
       "      <td>78741</td>\n",
       "      <td>30.23466</td>\n",
       "      <td>-97.73682</td>\n",
       "      <td>Entire home/apt</td>\n",
       "      <td>48</td>\n",
       "      <td>4</td>\n",
       "      <td>51</td>\n",
       "      <td>2023-05-16</td>\n",
       "      <td>0.31</td>\n",
       "      <td>1</td>\n",
       "      <td>98</td>\n",
       "      <td>3</td>\n",
       "      <td>NaN</td>\n",
       "    </tr>\n",
       "  </tbody>\n",
       "</table>\n",
       "</div>"
      ],
      "text/plain": [
       "     id                                               name  host_id  \\\n",
       "0  5456  Guesthouse in Austin · ★4.84 · 1 bedroom · 2 b...     8028   \n",
       "1  5769  Home in Austin · ★4.90 · 1 bedroom · 1 bed · 1...     8186   \n",
       "2  6413  Guesthouse in Austin · ★4.97 · Studio · 1 bed ...    13879   \n",
       "3  6448  Guesthouse in Austin · ★4.97 · 1 bedroom · 2 b...    14156   \n",
       "4  8502  Guest suite in Austin · ★4.56 · 1 bedroom · 1 ...    25298   \n",
       "\n",
       "   host_name  neighbourhood_group  neighbourhood  latitude  longitude  \\\n",
       "0     Sylvia                  NaN          78702  30.26057  -97.73441   \n",
       "1  Elizabeth                  NaN          78729  30.45697  -97.78422   \n",
       "2       Todd                  NaN          78704  30.24885  -97.73587   \n",
       "3        Amy                  NaN          78704  30.26034  -97.76487   \n",
       "4      Karen                  NaN          78741  30.23466  -97.73682   \n",
       "\n",
       "         room_type  price  minimum_nights  number_of_reviews last_review  \\\n",
       "0  Entire home/apt    126               2                657  2023-08-27   \n",
       "1     Private room     45               1                290  2023-08-04   \n",
       "2  Entire home/apt     57              30                122  2022-10-17   \n",
       "3  Entire home/apt    159               3                305  2023-09-04   \n",
       "4  Entire home/apt     48               4                 51  2023-05-16   \n",
       "\n",
       "   reviews_per_month  calculated_host_listings_count  availability_365  \\\n",
       "0               3.72                               1               306   \n",
       "1               1.77                               1                 0   \n",
       "2               0.73                               1                 0   \n",
       "3               2.09                               1               156   \n",
       "4               0.31                               1                98   \n",
       "\n",
       "   number_of_reviews_ltm  license  \n",
       "0                     42      NaN  \n",
       "1                     21      NaN  \n",
       "2                      3      NaN  \n",
       "3                     17      NaN  \n",
       "4                      3      NaN  "
      ]
     },
     "execution_count": 5,
     "metadata": {},
     "output_type": "execute_result"
    }
   ],
   "source": [
    "df.head()   # quick look at the dataset"
   ]
  },
  {
   "cell_type": "markdown",
   "metadata": {},
   "source": [
    "### Data Cleaning and Transformation"
   ]
  },
  {
   "cell_type": "code",
   "execution_count": 6,
   "metadata": {},
   "outputs": [
    {
     "name": "stdout",
     "output_type": "stream",
     "text": [
      "<class 'pandas.core.frame.DataFrame'>\n",
      "RangeIndex: 14861 entries, 0 to 14860\n",
      "Data columns (total 18 columns):\n",
      " #   Column                          Non-Null Count  Dtype  \n",
      "---  ------                          --------------  -----  \n",
      " 0   id                              14861 non-null  int64  \n",
      " 1   name                            14861 non-null  object \n",
      " 2   host_id                         14861 non-null  int64  \n",
      " 3   host_name                       14859 non-null  object \n",
      " 4   neighbourhood_group             0 non-null      float64\n",
      " 5   neighbourhood                   14861 non-null  int64  \n",
      " 6   latitude                        14861 non-null  float64\n",
      " 7   longitude                       14861 non-null  float64\n",
      " 8   room_type                       14861 non-null  object \n",
      " 9   price                           14861 non-null  int64  \n",
      " 10  minimum_nights                  14861 non-null  int64  \n",
      " 11  number_of_reviews               14861 non-null  int64  \n",
      " 12  last_review                     11758 non-null  object \n",
      " 13  reviews_per_month               11758 non-null  float64\n",
      " 14  calculated_host_listings_count  14861 non-null  int64  \n",
      " 15  availability_365                14861 non-null  int64  \n",
      " 16  number_of_reviews_ltm           14861 non-null  int64  \n",
      " 17  license                         0 non-null      float64\n",
      "dtypes: float64(5), int64(9), object(4)\n",
      "memory usage: 2.0+ MB\n"
     ]
    }
   ],
   "source": [
    "# check the data types and null values count in every column\n",
    "df.info()"
   ]
  },
  {
   "cell_type": "code",
   "execution_count": 7,
   "metadata": {},
   "outputs": [
    {
     "data": {
      "text/html": [
       "<div>\n",
       "<style scoped>\n",
       "    .dataframe tbody tr th:only-of-type {\n",
       "        vertical-align: middle;\n",
       "    }\n",
       "\n",
       "    .dataframe tbody tr th {\n",
       "        vertical-align: top;\n",
       "    }\n",
       "\n",
       "    .dataframe thead th {\n",
       "        text-align: right;\n",
       "    }\n",
       "</style>\n",
       "<table border=\"1\" class=\"dataframe\">\n",
       "  <thead>\n",
       "    <tr style=\"text-align: right;\">\n",
       "      <th></th>\n",
       "      <th>id</th>\n",
       "      <th>name</th>\n",
       "      <th>host_id</th>\n",
       "      <th>host_name</th>\n",
       "      <th>neighbourhood</th>\n",
       "      <th>latitude</th>\n",
       "      <th>longitude</th>\n",
       "      <th>room_type</th>\n",
       "      <th>price</th>\n",
       "      <th>minimum_nights</th>\n",
       "      <th>number_of_reviews</th>\n",
       "      <th>last_review</th>\n",
       "      <th>reviews_per_month</th>\n",
       "      <th>calculated_host_listings_count</th>\n",
       "      <th>availability_365</th>\n",
       "      <th>number_of_reviews_ltm</th>\n",
       "    </tr>\n",
       "  </thead>\n",
       "  <tbody>\n",
       "    <tr>\n",
       "      <th>0</th>\n",
       "      <td>5456</td>\n",
       "      <td>Guesthouse in Austin · ★4.84 · 1 bedroom · 2 b...</td>\n",
       "      <td>8028</td>\n",
       "      <td>Sylvia</td>\n",
       "      <td>78702</td>\n",
       "      <td>30.26057</td>\n",
       "      <td>-97.73441</td>\n",
       "      <td>Entire home/apt</td>\n",
       "      <td>126</td>\n",
       "      <td>2</td>\n",
       "      <td>657</td>\n",
       "      <td>2023-08-27</td>\n",
       "      <td>3.72</td>\n",
       "      <td>1</td>\n",
       "      <td>306</td>\n",
       "      <td>42</td>\n",
       "    </tr>\n",
       "    <tr>\n",
       "      <th>1</th>\n",
       "      <td>5769</td>\n",
       "      <td>Home in Austin · ★4.90 · 1 bedroom · 1 bed · 1...</td>\n",
       "      <td>8186</td>\n",
       "      <td>Elizabeth</td>\n",
       "      <td>78729</td>\n",
       "      <td>30.45697</td>\n",
       "      <td>-97.78422</td>\n",
       "      <td>Private room</td>\n",
       "      <td>45</td>\n",
       "      <td>1</td>\n",
       "      <td>290</td>\n",
       "      <td>2023-08-04</td>\n",
       "      <td>1.77</td>\n",
       "      <td>1</td>\n",
       "      <td>0</td>\n",
       "      <td>21</td>\n",
       "    </tr>\n",
       "  </tbody>\n",
       "</table>\n",
       "</div>"
      ],
      "text/plain": [
       "     id                                               name  host_id  \\\n",
       "0  5456  Guesthouse in Austin · ★4.84 · 1 bedroom · 2 b...     8028   \n",
       "1  5769  Home in Austin · ★4.90 · 1 bedroom · 1 bed · 1...     8186   \n",
       "\n",
       "   host_name  neighbourhood  latitude  longitude        room_type  price  \\\n",
       "0     Sylvia          78702  30.26057  -97.73441  Entire home/apt    126   \n",
       "1  Elizabeth          78729  30.45697  -97.78422     Private room     45   \n",
       "\n",
       "   minimum_nights  number_of_reviews last_review  reviews_per_month  \\\n",
       "0               2                657  2023-08-27               3.72   \n",
       "1               1                290  2023-08-04               1.77   \n",
       "\n",
       "   calculated_host_listings_count  availability_365  number_of_reviews_ltm  \n",
       "0                               1               306                     42  \n",
       "1                               1                 0                     21  "
      ]
     },
     "execution_count": 7,
     "metadata": {},
     "output_type": "execute_result"
    }
   ],
   "source": [
    "# All rows have null value in the neighbourhood group and license field so remove these fields\n",
    "df = df.drop(['neighbourhood_group', 'license'], axis=1)\n",
    "df.head(2)"
   ]
  },
  {
   "cell_type": "code",
   "execution_count": 8,
   "metadata": {},
   "outputs": [],
   "source": [
    "# Remove the two rows without a host name\n",
    "\n",
    "df = df[~df['host_name'].isna()]"
   ]
  },
  {
   "cell_type": "code",
   "execution_count": 9,
   "metadata": {},
   "outputs": [],
   "source": [
    "# drop the rows which do not have last review date or reviews per month\n",
    "\n",
    "df = df.dropna(subset=['number_of_reviews', 'last_review'], axis=0)"
   ]
  },
  {
   "cell_type": "code",
   "execution_count": 10,
   "metadata": {},
   "outputs": [
    {
     "data": {
      "text/plain": [
       "Index([], dtype='object')"
      ]
     },
     "execution_count": 10,
     "metadata": {},
     "output_type": "execute_result"
    }
   ],
   "source": [
    "df.columns[df.isna().sum() != 0] # no null values in any field"
   ]
  },
  {
   "cell_type": "code",
   "execution_count": 11,
   "metadata": {},
   "outputs": [],
   "source": [
    "df.drop('id', axis=1, inplace=True)   # remove the id (airbnb id) field. It is of no use"
   ]
  },
  {
   "cell_type": "code",
   "execution_count": 12,
   "metadata": {},
   "outputs": [],
   "source": [
    "# change the name of the price field to daily_price (to avoid confusion)\n",
    "\n",
    "df.rename(columns={'price': 'daily_price'}, inplace=True)"
   ]
  },
  {
   "cell_type": "code",
   "execution_count": 13,
   "metadata": {},
   "outputs": [
    {
     "data": {
      "text/plain": [
       "1886"
      ]
     },
     "execution_count": 13,
     "metadata": {},
     "output_type": "execute_result"
    }
   ],
   "source": [
    "# Split the name field into 5 different fields:\n",
    "\n",
    "# property_type (object)\n",
    "# bedrooms (int64)\n",
    "# beds (int64)\n",
    "# bathrooms (int64)\n",
    "# ratings (float64)\n",
    "\n",
    "# Check rows which do not contain sufficient info to split the name into 5 fields\n",
    "(df['name'].str.split(' · ').apply(len) < 5).sum()"
   ]
  },
  {
   "cell_type": "code",
   "execution_count": 14,
   "metadata": {},
   "outputs": [],
   "source": [
    "# remove those rows\n",
    "df = df[df['name'].str.split(' · ').apply(len) == 5]"
   ]
  },
  {
   "cell_type": "code",
   "execution_count": 15,
   "metadata": {},
   "outputs": [
    {
     "name": "stdout",
     "output_type": "stream",
     "text": [
      "['Guesthouse in Austin', '★4.84', '1 bedroom', '2 beds', '1 bath']\n",
      "['Home in Austin', '★4.90', '1 bedroom', '1 bed', '1 shared bath']\n",
      "['Guesthouse in Austin', '★4.97', 'Studio', '1 bed', '1 bath']\n",
      "['Guesthouse in Austin', '★4.97', '1 bedroom', '2 beds', '1 bath']\n",
      "['Guest suite in Austin', '★4.56', '1 bedroom', '1 bed', '1 bath']\n"
     ]
    }
   ],
   "source": [
    "# a sample view of the list after splitting\n",
    "names = df['name'].str.split(' · ')\n",
    "for i in range(5):\n",
    "    print(names[i])\n"
   ]
  },
  {
   "cell_type": "code",
   "execution_count": 16,
   "metadata": {},
   "outputs": [],
   "source": [
    "# create and assign the values to those fields\n",
    "property_type, ratings, bedrooms, beds, bathrooms = [], [], [], [], []\n",
    "\n",
    "for name in names:\n",
    "    property_type.append(name[0].split(' in ')[0])\n",
    "    ratings.append(name[1][1:])\n",
    "    bedrooms.append(name[2].split(' ')[0])\n",
    "    beds.append(name[3].split(' ')[0])\n",
    "    bathrooms.append(name[4].split(' ')[0])\n",
    "\n",
    "df['property_type'] = property_type\n",
    "df['bedrooms'] = bedrooms\n",
    "df['beds'] = beds\n",
    "df['bathrooms'] = bathrooms\n",
    "df['ratings'] = ratings"
   ]
  },
  {
   "cell_type": "code",
   "execution_count": 17,
   "metadata": {},
   "outputs": [],
   "source": [
    "# drop the original name field\n",
    "df.drop('name', axis=1, inplace=True)"
   ]
  },
  {
   "cell_type": "code",
   "execution_count": 18,
   "metadata": {},
   "outputs": [
    {
     "data": {
      "text/html": [
       "<div>\n",
       "<style scoped>\n",
       "    .dataframe tbody tr th:only-of-type {\n",
       "        vertical-align: middle;\n",
       "    }\n",
       "\n",
       "    .dataframe tbody tr th {\n",
       "        vertical-align: top;\n",
       "    }\n",
       "\n",
       "    .dataframe thead th {\n",
       "        text-align: right;\n",
       "    }\n",
       "</style>\n",
       "<table border=\"1\" class=\"dataframe\">\n",
       "  <thead>\n",
       "    <tr style=\"text-align: right;\">\n",
       "      <th></th>\n",
       "      <th>host_id</th>\n",
       "      <th>host_name</th>\n",
       "      <th>neighbourhood</th>\n",
       "      <th>latitude</th>\n",
       "      <th>longitude</th>\n",
       "      <th>room_type</th>\n",
       "      <th>daily_price</th>\n",
       "      <th>minimum_nights</th>\n",
       "      <th>number_of_reviews</th>\n",
       "      <th>last_review</th>\n",
       "      <th>reviews_per_month</th>\n",
       "      <th>calculated_host_listings_count</th>\n",
       "      <th>availability_365</th>\n",
       "      <th>number_of_reviews_ltm</th>\n",
       "      <th>property_type</th>\n",
       "      <th>bedrooms</th>\n",
       "      <th>beds</th>\n",
       "      <th>bathrooms</th>\n",
       "      <th>ratings</th>\n",
       "    </tr>\n",
       "  </thead>\n",
       "  <tbody>\n",
       "    <tr>\n",
       "      <th>0</th>\n",
       "      <td>8028</td>\n",
       "      <td>Sylvia</td>\n",
       "      <td>78702</td>\n",
       "      <td>30.26057</td>\n",
       "      <td>-97.73441</td>\n",
       "      <td>Entire home/apt</td>\n",
       "      <td>126</td>\n",
       "      <td>2</td>\n",
       "      <td>657</td>\n",
       "      <td>2023-08-27</td>\n",
       "      <td>3.72</td>\n",
       "      <td>1</td>\n",
       "      <td>306</td>\n",
       "      <td>42</td>\n",
       "      <td>Guesthouse</td>\n",
       "      <td>1</td>\n",
       "      <td>2</td>\n",
       "      <td>1</td>\n",
       "      <td>4.84</td>\n",
       "    </tr>\n",
       "    <tr>\n",
       "      <th>1</th>\n",
       "      <td>8186</td>\n",
       "      <td>Elizabeth</td>\n",
       "      <td>78729</td>\n",
       "      <td>30.45697</td>\n",
       "      <td>-97.78422</td>\n",
       "      <td>Private room</td>\n",
       "      <td>45</td>\n",
       "      <td>1</td>\n",
       "      <td>290</td>\n",
       "      <td>2023-08-04</td>\n",
       "      <td>1.77</td>\n",
       "      <td>1</td>\n",
       "      <td>0</td>\n",
       "      <td>21</td>\n",
       "      <td>Home</td>\n",
       "      <td>1</td>\n",
       "      <td>1</td>\n",
       "      <td>1</td>\n",
       "      <td>4.90</td>\n",
       "    </tr>\n",
       "  </tbody>\n",
       "</table>\n",
       "</div>"
      ],
      "text/plain": [
       "   host_id  host_name  neighbourhood  latitude  longitude        room_type  \\\n",
       "0     8028     Sylvia          78702  30.26057  -97.73441  Entire home/apt   \n",
       "1     8186  Elizabeth          78729  30.45697  -97.78422     Private room   \n",
       "\n",
       "   daily_price  minimum_nights  number_of_reviews last_review  \\\n",
       "0          126               2                657  2023-08-27   \n",
       "1           45               1                290  2023-08-04   \n",
       "\n",
       "   reviews_per_month  calculated_host_listings_count  availability_365  \\\n",
       "0               3.72                               1               306   \n",
       "1               1.77                               1                 0   \n",
       "\n",
       "   number_of_reviews_ltm property_type bedrooms beds bathrooms ratings  \n",
       "0                     42    Guesthouse        1    2         1    4.84  \n",
       "1                     21          Home        1    1         1    4.90  "
      ]
     },
     "execution_count": 18,
     "metadata": {},
     "output_type": "execute_result"
    }
   ],
   "source": [
    "df.head(2)"
   ]
  },
  {
   "cell_type": "code",
   "execution_count": 19,
   "metadata": {},
   "outputs": [],
   "source": [
    "# reposition the columns and bring them to the front\n",
    "column_order = list(df.columns[:2]) + list(df.columns[-5:]) + list(df.columns[2:-5])\n",
    "df = df[column_order]"
   ]
  },
  {
   "cell_type": "code",
   "execution_count": 20,
   "metadata": {},
   "outputs": [
    {
     "data": {
      "text/html": [
       "<div>\n",
       "<style scoped>\n",
       "    .dataframe tbody tr th:only-of-type {\n",
       "        vertical-align: middle;\n",
       "    }\n",
       "\n",
       "    .dataframe tbody tr th {\n",
       "        vertical-align: top;\n",
       "    }\n",
       "\n",
       "    .dataframe thead th {\n",
       "        text-align: right;\n",
       "    }\n",
       "</style>\n",
       "<table border=\"1\" class=\"dataframe\">\n",
       "  <thead>\n",
       "    <tr style=\"text-align: right;\">\n",
       "      <th></th>\n",
       "      <th>host_id</th>\n",
       "      <th>host_name</th>\n",
       "      <th>property_type</th>\n",
       "      <th>bedrooms</th>\n",
       "      <th>beds</th>\n",
       "      <th>bathrooms</th>\n",
       "      <th>ratings</th>\n",
       "      <th>neighbourhood</th>\n",
       "      <th>latitude</th>\n",
       "      <th>longitude</th>\n",
       "      <th>room_type</th>\n",
       "      <th>daily_price</th>\n",
       "      <th>minimum_nights</th>\n",
       "      <th>number_of_reviews</th>\n",
       "      <th>last_review</th>\n",
       "      <th>reviews_per_month</th>\n",
       "      <th>calculated_host_listings_count</th>\n",
       "      <th>availability_365</th>\n",
       "      <th>number_of_reviews_ltm</th>\n",
       "    </tr>\n",
       "  </thead>\n",
       "  <tbody>\n",
       "    <tr>\n",
       "      <th>0</th>\n",
       "      <td>8028</td>\n",
       "      <td>Sylvia</td>\n",
       "      <td>Guesthouse</td>\n",
       "      <td>1</td>\n",
       "      <td>2</td>\n",
       "      <td>1</td>\n",
       "      <td>4.84</td>\n",
       "      <td>78702</td>\n",
       "      <td>30.26057</td>\n",
       "      <td>-97.73441</td>\n",
       "      <td>Entire home/apt</td>\n",
       "      <td>126</td>\n",
       "      <td>2</td>\n",
       "      <td>657</td>\n",
       "      <td>2023-08-27</td>\n",
       "      <td>3.72</td>\n",
       "      <td>1</td>\n",
       "      <td>306</td>\n",
       "      <td>42</td>\n",
       "    </tr>\n",
       "    <tr>\n",
       "      <th>1</th>\n",
       "      <td>8186</td>\n",
       "      <td>Elizabeth</td>\n",
       "      <td>Home</td>\n",
       "      <td>1</td>\n",
       "      <td>1</td>\n",
       "      <td>1</td>\n",
       "      <td>4.90</td>\n",
       "      <td>78729</td>\n",
       "      <td>30.45697</td>\n",
       "      <td>-97.78422</td>\n",
       "      <td>Private room</td>\n",
       "      <td>45</td>\n",
       "      <td>1</td>\n",
       "      <td>290</td>\n",
       "      <td>2023-08-04</td>\n",
       "      <td>1.77</td>\n",
       "      <td>1</td>\n",
       "      <td>0</td>\n",
       "      <td>21</td>\n",
       "    </tr>\n",
       "  </tbody>\n",
       "</table>\n",
       "</div>"
      ],
      "text/plain": [
       "   host_id  host_name property_type bedrooms beds bathrooms ratings  \\\n",
       "0     8028     Sylvia    Guesthouse        1    2         1    4.84   \n",
       "1     8186  Elizabeth          Home        1    1         1    4.90   \n",
       "\n",
       "   neighbourhood  latitude  longitude        room_type  daily_price  \\\n",
       "0          78702  30.26057  -97.73441  Entire home/apt          126   \n",
       "1          78729  30.45697  -97.78422     Private room           45   \n",
       "\n",
       "   minimum_nights  number_of_reviews last_review  reviews_per_month  \\\n",
       "0               2                657  2023-08-27               3.72   \n",
       "1               1                290  2023-08-04               1.77   \n",
       "\n",
       "   calculated_host_listings_count  availability_365  number_of_reviews_ltm  \n",
       "0                               1               306                     42  \n",
       "1                               1                 0                     21  "
      ]
     },
     "execution_count": 20,
     "metadata": {},
     "output_type": "execute_result"
    }
   ],
   "source": [
    "# repostitioned columns dataframe\n",
    "df.head(2)"
   ]
  },
  {
   "cell_type": "code",
   "execution_count": 21,
   "metadata": {},
   "outputs": [
    {
     "data": {
      "text/plain": [
       "bedrooms\n",
       "Studio    485\n",
       "Name: count, dtype: int64"
      ]
     },
     "execution_count": 21,
     "metadata": {},
     "output_type": "execute_result"
    }
   ],
   "source": [
    "# check to see if the data is in the wrong format in any fields\n",
    "def is_numeric_string(value):\n",
    "    decimal_count = 0\n",
    "\n",
    "    for char in value:\n",
    "        if char.isdigit():\n",
    "            continue\n",
    "        elif char == '.' and decimal_count == 0:\n",
    "            decimal_count += 1\n",
    "        else:\n",
    "            return False\n",
    "\n",
    "    return True\n",
    "\n",
    "df[~df['bedrooms'].apply(is_numeric_string)]['bedrooms'].value_counts()"
   ]
  },
  {
   "cell_type": "code",
   "execution_count": 22,
   "metadata": {},
   "outputs": [],
   "source": [
    "# Change 'Studio' to 0.5 bedroom for numeric coversion later on\n",
    "\n",
    "df.loc[df.bedrooms == 'Studio', 'bedrooms'] = '0.5'"
   ]
  },
  {
   "cell_type": "code",
   "execution_count": 23,
   "metadata": {},
   "outputs": [
    {
     "data": {
      "text/plain": [
       "Series([], Name: count, dtype: int64)"
      ]
     },
     "execution_count": 23,
     "metadata": {},
     "output_type": "execute_result"
    }
   ],
   "source": [
    "# check for beds field\n",
    "\n",
    "df[~df['beds'].apply(is_numeric_string)]['beds'].value_counts()  # all values are in proper format"
   ]
  },
  {
   "cell_type": "code",
   "execution_count": 24,
   "metadata": {},
   "outputs": [
    {
     "data": {
      "text/plain": [
       "bathrooms\n",
       "Half-bath    3\n",
       "Private      1\n",
       "Shared       1\n",
       "Name: count, dtype: int64"
      ]
     },
     "execution_count": 24,
     "metadata": {},
     "output_type": "execute_result"
    }
   ],
   "source": [
    "# check for bathrooms\n",
    "\n",
    "df[~df['bathrooms'].apply(is_numeric_string)]['bathrooms'].value_counts()"
   ]
  },
  {
   "cell_type": "code",
   "execution_count": 25,
   "metadata": {},
   "outputs": [
    {
     "data": {
      "text/plain": [
       "Series([], Name: count, dtype: int64)"
      ]
     },
     "execution_count": 25,
     "metadata": {},
     "output_type": "execute_result"
    }
   ],
   "source": [
    "# replace half-bath with 0.5 and remove the others\n",
    "\n",
    "df.loc[df['bathrooms'] == 'Half-bath', 'bathrooms'] = '0.5'\n",
    "df = df[df['bathrooms'].apply(is_numeric_string)]\n",
    "df[~df['bathrooms'].apply(is_numeric_string)]['bathrooms'].value_counts()"
   ]
  },
  {
   "cell_type": "code",
   "execution_count": 26,
   "metadata": {},
   "outputs": [
    {
     "data": {
      "text/plain": [
       "ratings\n",
       "New    257\n",
       "Name: count, dtype: int64"
      ]
     },
     "execution_count": 26,
     "metadata": {},
     "output_type": "execute_result"
    }
   ],
   "source": [
    "# check for the ratings field\n",
    "\n",
    "df[~df['ratings'].apply(is_numeric_string)]['ratings'].value_counts()"
   ]
  },
  {
   "cell_type": "code",
   "execution_count": 27,
   "metadata": {},
   "outputs": [
    {
     "data": {
      "text/plain": [
       "Series([], Name: count, dtype: int64)"
      ]
     },
     "execution_count": 27,
     "metadata": {},
     "output_type": "execute_result"
    }
   ],
   "source": [
    "# remove the rows with 'New' value in the ratings field\n",
    "\n",
    "df = df[df['ratings'].apply(is_numeric_string)]\n",
    "df[~df['ratings'].apply(is_numeric_string)]['ratings'].value_counts()"
   ]
  },
  {
   "cell_type": "code",
   "execution_count": 28,
   "metadata": {},
   "outputs": [],
   "source": [
    "# removing the rows with value 'Bed and breakfast' in property_type field. It is not a specific type\n",
    "df = df[df['property_type'] != 'Bed and breakfast']"
   ]
  },
  {
   "cell_type": "code",
   "execution_count": 29,
   "metadata": {},
   "outputs": [],
   "source": [
    "# Custom function to apply different data type conversions\n",
    "def custom_conversion(value):\n",
    "    try:\n",
    "        # Try converting to integer\n",
    "        return int(value)\n",
    "    except ValueError:\n",
    "        try:\n",
    "            # Try converting to float\n",
    "            return float(value)\n",
    "        except ValueError:\n",
    "            # Return NaN for inconvertibles\n",
    "            return float('nan')\n",
    "\n",
    "\n",
    "# finally change the data types of the new fields\n",
    "df[['bedrooms', 'beds', 'bathrooms', 'ratings']] = df[['bedrooms', 'beds', 'bathrooms', 'ratings']].map(custom_conversion)"
   ]
  },
  {
   "cell_type": "code",
   "execution_count": 30,
   "metadata": {},
   "outputs": [
    {
     "data": {
      "text/plain": [
       "(9600, 19)"
      ]
     },
     "execution_count": 30,
     "metadata": {},
     "output_type": "execute_result"
    }
   ],
   "source": [
    "# all the data is in proper format now\n",
    "\n",
    "df.shape    # It has 9600 rows and 19 columns"
   ]
  },
  {
   "cell_type": "code",
   "execution_count": 31,
   "metadata": {},
   "outputs": [
    {
     "data": {
      "text/html": [
       "<div>\n",
       "<style scoped>\n",
       "    .dataframe tbody tr th:only-of-type {\n",
       "        vertical-align: middle;\n",
       "    }\n",
       "\n",
       "    .dataframe tbody tr th {\n",
       "        vertical-align: top;\n",
       "    }\n",
       "\n",
       "    .dataframe thead th {\n",
       "        text-align: right;\n",
       "    }\n",
       "</style>\n",
       "<table border=\"1\" class=\"dataframe\">\n",
       "  <thead>\n",
       "    <tr style=\"text-align: right;\">\n",
       "      <th></th>\n",
       "      <th>host_id</th>\n",
       "      <th>host_name</th>\n",
       "      <th>property_type</th>\n",
       "      <th>bedrooms</th>\n",
       "      <th>beds</th>\n",
       "      <th>bathrooms</th>\n",
       "      <th>ratings</th>\n",
       "      <th>neighbourhood</th>\n",
       "      <th>latitude</th>\n",
       "      <th>longitude</th>\n",
       "      <th>room_type</th>\n",
       "      <th>daily_price</th>\n",
       "      <th>minimum_nights</th>\n",
       "      <th>number_of_reviews</th>\n",
       "      <th>last_review</th>\n",
       "      <th>reviews_per_month</th>\n",
       "      <th>calculated_host_listings_count</th>\n",
       "      <th>availability_365</th>\n",
       "      <th>number_of_reviews_ltm</th>\n",
       "    </tr>\n",
       "  </thead>\n",
       "  <tbody>\n",
       "    <tr>\n",
       "      <th>0</th>\n",
       "      <td>8028</td>\n",
       "      <td>Sylvia</td>\n",
       "      <td>Guesthouse</td>\n",
       "      <td>1.0</td>\n",
       "      <td>2</td>\n",
       "      <td>1.0</td>\n",
       "      <td>4.84</td>\n",
       "      <td>78702</td>\n",
       "      <td>30.26057</td>\n",
       "      <td>-97.73441</td>\n",
       "      <td>Entire home/apt</td>\n",
       "      <td>126</td>\n",
       "      <td>2</td>\n",
       "      <td>657</td>\n",
       "      <td>2023-08-27</td>\n",
       "      <td>3.72</td>\n",
       "      <td>1</td>\n",
       "      <td>306</td>\n",
       "      <td>42</td>\n",
       "    </tr>\n",
       "    <tr>\n",
       "      <th>1</th>\n",
       "      <td>8186</td>\n",
       "      <td>Elizabeth</td>\n",
       "      <td>Home</td>\n",
       "      <td>1.0</td>\n",
       "      <td>1</td>\n",
       "      <td>1.0</td>\n",
       "      <td>4.90</td>\n",
       "      <td>78729</td>\n",
       "      <td>30.45697</td>\n",
       "      <td>-97.78422</td>\n",
       "      <td>Private room</td>\n",
       "      <td>45</td>\n",
       "      <td>1</td>\n",
       "      <td>290</td>\n",
       "      <td>2023-08-04</td>\n",
       "      <td>1.77</td>\n",
       "      <td>1</td>\n",
       "      <td>0</td>\n",
       "      <td>21</td>\n",
       "    </tr>\n",
       "    <tr>\n",
       "      <th>2</th>\n",
       "      <td>13879</td>\n",
       "      <td>Todd</td>\n",
       "      <td>Guesthouse</td>\n",
       "      <td>0.5</td>\n",
       "      <td>1</td>\n",
       "      <td>1.0</td>\n",
       "      <td>4.97</td>\n",
       "      <td>78704</td>\n",
       "      <td>30.24885</td>\n",
       "      <td>-97.73587</td>\n",
       "      <td>Entire home/apt</td>\n",
       "      <td>57</td>\n",
       "      <td>30</td>\n",
       "      <td>122</td>\n",
       "      <td>2022-10-17</td>\n",
       "      <td>0.73</td>\n",
       "      <td>1</td>\n",
       "      <td>0</td>\n",
       "      <td>3</td>\n",
       "    </tr>\n",
       "    <tr>\n",
       "      <th>3</th>\n",
       "      <td>14156</td>\n",
       "      <td>Amy</td>\n",
       "      <td>Guesthouse</td>\n",
       "      <td>1.0</td>\n",
       "      <td>2</td>\n",
       "      <td>1.0</td>\n",
       "      <td>4.97</td>\n",
       "      <td>78704</td>\n",
       "      <td>30.26034</td>\n",
       "      <td>-97.76487</td>\n",
       "      <td>Entire home/apt</td>\n",
       "      <td>159</td>\n",
       "      <td>3</td>\n",
       "      <td>305</td>\n",
       "      <td>2023-09-04</td>\n",
       "      <td>2.09</td>\n",
       "      <td>1</td>\n",
       "      <td>156</td>\n",
       "      <td>17</td>\n",
       "    </tr>\n",
       "    <tr>\n",
       "      <th>4</th>\n",
       "      <td>25298</td>\n",
       "      <td>Karen</td>\n",
       "      <td>Guest suite</td>\n",
       "      <td>1.0</td>\n",
       "      <td>1</td>\n",
       "      <td>1.0</td>\n",
       "      <td>4.56</td>\n",
       "      <td>78741</td>\n",
       "      <td>30.23466</td>\n",
       "      <td>-97.73682</td>\n",
       "      <td>Entire home/apt</td>\n",
       "      <td>48</td>\n",
       "      <td>4</td>\n",
       "      <td>51</td>\n",
       "      <td>2023-05-16</td>\n",
       "      <td>0.31</td>\n",
       "      <td>1</td>\n",
       "      <td>98</td>\n",
       "      <td>3</td>\n",
       "    </tr>\n",
       "  </tbody>\n",
       "</table>\n",
       "</div>"
      ],
      "text/plain": [
       "   host_id  host_name property_type  bedrooms  beds  bathrooms  ratings  \\\n",
       "0     8028     Sylvia    Guesthouse       1.0     2        1.0     4.84   \n",
       "1     8186  Elizabeth          Home       1.0     1        1.0     4.90   \n",
       "2    13879       Todd    Guesthouse       0.5     1        1.0     4.97   \n",
       "3    14156        Amy    Guesthouse       1.0     2        1.0     4.97   \n",
       "4    25298      Karen   Guest suite       1.0     1        1.0     4.56   \n",
       "\n",
       "   neighbourhood  latitude  longitude        room_type  daily_price  \\\n",
       "0          78702  30.26057  -97.73441  Entire home/apt          126   \n",
       "1          78729  30.45697  -97.78422     Private room           45   \n",
       "2          78704  30.24885  -97.73587  Entire home/apt           57   \n",
       "3          78704  30.26034  -97.76487  Entire home/apt          159   \n",
       "4          78741  30.23466  -97.73682  Entire home/apt           48   \n",
       "\n",
       "   minimum_nights  number_of_reviews last_review  reviews_per_month  \\\n",
       "0               2                657  2023-08-27               3.72   \n",
       "1               1                290  2023-08-04               1.77   \n",
       "2              30                122  2022-10-17               0.73   \n",
       "3               3                305  2023-09-04               2.09   \n",
       "4               4                 51  2023-05-16               0.31   \n",
       "\n",
       "   calculated_host_listings_count  availability_365  number_of_reviews_ltm  \n",
       "0                               1               306                     42  \n",
       "1                               1                 0                     21  \n",
       "2                               1                 0                      3  \n",
       "3                               1               156                     17  \n",
       "4                               1                98                      3  "
      ]
     },
     "execution_count": 31,
     "metadata": {},
     "output_type": "execute_result"
    }
   ],
   "source": [
    "df.head()"
   ]
  },
  {
   "cell_type": "code",
   "execution_count": 32,
   "metadata": {},
   "outputs": [
    {
     "name": "stdout",
     "output_type": "stream",
     "text": [
      "<class 'pandas.core.frame.DataFrame'>\n",
      "Index: 9600 entries, 0 to 14597\n",
      "Data columns (total 19 columns):\n",
      " #   Column                          Non-Null Count  Dtype  \n",
      "---  ------                          --------------  -----  \n",
      " 0   host_id                         9600 non-null   int64  \n",
      " 1   host_name                       9600 non-null   object \n",
      " 2   property_type                   9600 non-null   object \n",
      " 3   bedrooms                        9600 non-null   float64\n",
      " 4   beds                            9600 non-null   int64  \n",
      " 5   bathrooms                       9600 non-null   float64\n",
      " 6   ratings                         9600 non-null   float64\n",
      " 7   neighbourhood                   9600 non-null   int64  \n",
      " 8   latitude                        9600 non-null   float64\n",
      " 9   longitude                       9600 non-null   float64\n",
      " 10  room_type                       9600 non-null   object \n",
      " 11  daily_price                     9600 non-null   int64  \n",
      " 12  minimum_nights                  9600 non-null   int64  \n",
      " 13  number_of_reviews               9600 non-null   int64  \n",
      " 14  last_review                     9600 non-null   object \n",
      " 15  reviews_per_month               9600 non-null   float64\n",
      " 16  calculated_host_listings_count  9600 non-null   int64  \n",
      " 17  availability_365                9600 non-null   int64  \n",
      " 18  number_of_reviews_ltm           9600 non-null   int64  \n",
      "dtypes: float64(6), int64(9), object(4)\n",
      "memory usage: 1.5+ MB\n"
     ]
    }
   ],
   "source": [
    "# a final info of the cleaned and transformed data\n",
    "df.info()"
   ]
  },
  {
   "cell_type": "code",
   "execution_count": 33,
   "metadata": {},
   "outputs": [],
   "source": [
    "# finally extract the cleaned data to a csv file\n",
    "\n",
    "df.to_csv('airbnb_listings_clean_data.csv', index=False)"
   ]
  }
 ],
 "metadata": {
  "kernelspec": {
   "display_name": "Python 3.10.6 ('venv': venv)",
   "language": "python",
   "name": "python3"
  },
  "language_info": {
   "codemirror_mode": {
    "name": "ipython",
    "version": 3
   },
   "file_extension": ".py",
   "mimetype": "text/x-python",
   "name": "python",
   "nbconvert_exporter": "python",
   "pygments_lexer": "ipython3",
   "version": "3.10.6"
  },
  "orig_nbformat": 4,
  "vscode": {
   "interpreter": {
    "hash": "ec0e890b954293f34d16d4c104a129e3912c28c5e75cee8491611edc427a31d8"
   }
  }
 },
 "nbformat": 4,
 "nbformat_minor": 2
}
